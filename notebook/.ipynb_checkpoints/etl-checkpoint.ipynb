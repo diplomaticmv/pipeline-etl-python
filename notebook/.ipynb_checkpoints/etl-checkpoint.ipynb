{
 "cells": [
  {
   "cell_type": "markdown",
   "id": "ac82d148-f006-4105-a328-06d62da2a898",
   "metadata": {},
   "source": [
    "# **Instalando Bibliotecas**"
   ]
  },
  {
   "cell_type": "markdown",
   "id": "1b9c5983-7b6f-4c52-853d-e0184520e3d2",
   "metadata": {},
   "source": [
    "## **OpenAi**"
   ]
  },
  {
   "cell_type": "code",
   "execution_count": 1,
   "id": "97e256cd-2f39-4f54-8a7d-e8e51787a0f9",
   "metadata": {
    "scrolled": true
   },
   "outputs": [
    {
     "name": "stdout",
     "output_type": "stream",
     "text": [
      "Collecting openai\n",
      "  Downloading openai-0.28.1-py3-none-any.whl.metadata (11 kB)\n",
      "Requirement already satisfied: requests>=2.20 in c:\\users\\pc\\appdata\\local\\packages\\pythonsoftwarefoundation.python.3.11_qbz5n2kfra8p0\\localcache\\local-packages\\python311\\site-packages (from openai) (2.31.0)\n",
      "Requirement already satisfied: tqdm in c:\\users\\pc\\appdata\\local\\packages\\pythonsoftwarefoundation.python.3.11_qbz5n2kfra8p0\\localcache\\local-packages\\python311\\site-packages (from openai) (4.66.1)\n",
      "Requirement already satisfied: aiohttp in c:\\users\\pc\\appdata\\local\\packages\\pythonsoftwarefoundation.python.3.11_qbz5n2kfra8p0\\localcache\\local-packages\\python311\\site-packages (from openai) (3.8.6)\n",
      "Requirement already satisfied: charset-normalizer<4,>=2 in c:\\users\\pc\\appdata\\local\\packages\\pythonsoftwarefoundation.python.3.11_qbz5n2kfra8p0\\localcache\\local-packages\\python311\\site-packages (from requests>=2.20->openai) (3.3.0)\n",
      "Requirement already satisfied: idna<4,>=2.5 in c:\\users\\pc\\appdata\\local\\packages\\pythonsoftwarefoundation.python.3.11_qbz5n2kfra8p0\\localcache\\local-packages\\python311\\site-packages (from requests>=2.20->openai) (3.4)\n",
      "Requirement already satisfied: urllib3<3,>=1.21.1 in c:\\users\\pc\\appdata\\local\\packages\\pythonsoftwarefoundation.python.3.11_qbz5n2kfra8p0\\localcache\\local-packages\\python311\\site-packages (from requests>=2.20->openai) (2.0.6)\n",
      "Requirement already satisfied: certifi>=2017.4.17 in c:\\users\\pc\\appdata\\local\\packages\\pythonsoftwarefoundation.python.3.11_qbz5n2kfra8p0\\localcache\\local-packages\\python311\\site-packages (from requests>=2.20->openai) (2023.7.22)\n",
      "Requirement already satisfied: attrs>=17.3.0 in c:\\users\\pc\\appdata\\local\\packages\\pythonsoftwarefoundation.python.3.11_qbz5n2kfra8p0\\localcache\\local-packages\\python311\\site-packages (from aiohttp->openai) (23.1.0)\n",
      "Requirement already satisfied: multidict<7.0,>=4.5 in c:\\users\\pc\\appdata\\local\\packages\\pythonsoftwarefoundation.python.3.11_qbz5n2kfra8p0\\localcache\\local-packages\\python311\\site-packages (from aiohttp->openai) (6.0.4)\n",
      "Requirement already satisfied: async-timeout<5.0,>=4.0.0a3 in c:\\users\\pc\\appdata\\local\\packages\\pythonsoftwarefoundation.python.3.11_qbz5n2kfra8p0\\localcache\\local-packages\\python311\\site-packages (from aiohttp->openai) (4.0.3)\n",
      "Requirement already satisfied: yarl<2.0,>=1.0 in c:\\users\\pc\\appdata\\local\\packages\\pythonsoftwarefoundation.python.3.11_qbz5n2kfra8p0\\localcache\\local-packages\\python311\\site-packages (from aiohttp->openai) (1.9.2)\n",
      "Requirement already satisfied: frozenlist>=1.1.1 in c:\\users\\pc\\appdata\\local\\packages\\pythonsoftwarefoundation.python.3.11_qbz5n2kfra8p0\\localcache\\local-packages\\python311\\site-packages (from aiohttp->openai) (1.4.0)\n",
      "Requirement already satisfied: aiosignal>=1.1.2 in c:\\users\\pc\\appdata\\local\\packages\\pythonsoftwarefoundation.python.3.11_qbz5n2kfra8p0\\localcache\\local-packages\\python311\\site-packages (from aiohttp->openai) (1.3.1)\n",
      "Requirement already satisfied: colorama in c:\\users\\pc\\appdata\\local\\packages\\pythonsoftwarefoundation.python.3.11_qbz5n2kfra8p0\\localcache\\local-packages\\python311\\site-packages (from tqdm->openai) (0.4.6)\n",
      "Downloading openai-0.28.1-py3-none-any.whl (76 kB)\n",
      "   ---------------------------------------- 0.0/77.0 kB ? eta -:--:--\n",
      "   ---------------------------------------- 0.0/77.0 kB ? eta -:--:--\n",
      "   ----- ---------------------------------- 10.2/77.0 kB ? eta -:--:--\n",
      "   ------------------------------------- -- 71.7/77.0 kB 653.6 kB/s eta 0:00:01\n",
      "   ---------------------------------------- 77.0/77.0 kB 533.7 kB/s eta 0:00:00\n",
      "Installing collected packages: openai\n",
      "Successfully installed openai-0.28.1\n"
     ]
    }
   ],
   "source": [
    "!pip install openai"
   ]
  },
  {
   "cell_type": "markdown",
   "id": "5032a04b-27ee-458f-816b-10f70227fa6a",
   "metadata": {},
   "source": [
    "## **BardApi**"
   ]
  },
  {
   "cell_type": "code",
   "execution_count": 3,
   "id": "8bf9b1f9-1f09-4e96-afc0-01551fa5963a",
   "metadata": {},
   "outputs": [
    {
     "name": "stdout",
     "output_type": "stream",
     "text": [
      "Requirement already satisfied: bardapi in c:\\users\\pc\\appdata\\local\\packages\\pythonsoftwarefoundation.python.3.11_qbz5n2kfra8p0\\localcache\\local-packages\\python311\\site-packages (0.1.38)\n",
      "Requirement already satisfied: httpx>=0.20.0 in c:\\users\\pc\\appdata\\local\\packages\\pythonsoftwarefoundation.python.3.11_qbz5n2kfra8p0\\localcache\\local-packages\\python311\\site-packages (from httpx[http2]>=0.20.0->bardapi) (0.25.0)\n",
      "Requirement already satisfied: requests in c:\\users\\pc\\appdata\\local\\packages\\pythonsoftwarefoundation.python.3.11_qbz5n2kfra8p0\\localcache\\local-packages\\python311\\site-packages (from bardapi) (2.31.0)\n",
      "Requirement already satisfied: deep-translator in c:\\users\\pc\\appdata\\local\\packages\\pythonsoftwarefoundation.python.3.11_qbz5n2kfra8p0\\localcache\\local-packages\\python311\\site-packages (from bardapi) (1.11.4)\n",
      "Requirement already satisfied: colorama in c:\\users\\pc\\appdata\\local\\packages\\pythonsoftwarefoundation.python.3.11_qbz5n2kfra8p0\\localcache\\local-packages\\python311\\site-packages (from bardapi) (0.4.6)\n",
      "Requirement already satisfied: google-cloud-translate in c:\\users\\pc\\appdata\\local\\packages\\pythonsoftwarefoundation.python.3.11_qbz5n2kfra8p0\\localcache\\local-packages\\python311\\site-packages (from bardapi) (3.12.0)\n",
      "Requirement already satisfied: browser-cookie3 in c:\\users\\pc\\appdata\\local\\packages\\pythonsoftwarefoundation.python.3.11_qbz5n2kfra8p0\\localcache\\local-packages\\python311\\site-packages (from bardapi) (0.19.1)\n",
      "Requirement already satisfied: langdetect in c:\\users\\pc\\appdata\\local\\packages\\pythonsoftwarefoundation.python.3.11_qbz5n2kfra8p0\\localcache\\local-packages\\python311\\site-packages (from bardapi) (1.0.9)\n",
      "Requirement already satisfied: certifi in c:\\users\\pc\\appdata\\local\\packages\\pythonsoftwarefoundation.python.3.11_qbz5n2kfra8p0\\localcache\\local-packages\\python311\\site-packages (from httpx>=0.20.0->httpx[http2]>=0.20.0->bardapi) (2023.7.22)\n",
      "Requirement already satisfied: httpcore<0.19.0,>=0.18.0 in c:\\users\\pc\\appdata\\local\\packages\\pythonsoftwarefoundation.python.3.11_qbz5n2kfra8p0\\localcache\\local-packages\\python311\\site-packages (from httpx>=0.20.0->httpx[http2]>=0.20.0->bardapi) (0.18.0)\n",
      "Requirement already satisfied: idna in c:\\users\\pc\\appdata\\local\\packages\\pythonsoftwarefoundation.python.3.11_qbz5n2kfra8p0\\localcache\\local-packages\\python311\\site-packages (from httpx>=0.20.0->httpx[http2]>=0.20.0->bardapi) (3.4)\n",
      "Requirement already satisfied: sniffio in c:\\users\\pc\\appdata\\local\\packages\\pythonsoftwarefoundation.python.3.11_qbz5n2kfra8p0\\localcache\\local-packages\\python311\\site-packages (from httpx>=0.20.0->httpx[http2]>=0.20.0->bardapi) (1.3.0)\n",
      "Requirement already satisfied: h2<5,>=3 in c:\\users\\pc\\appdata\\local\\packages\\pythonsoftwarefoundation.python.3.11_qbz5n2kfra8p0\\localcache\\local-packages\\python311\\site-packages (from httpx[http2]>=0.20.0->bardapi) (4.1.0)\n",
      "Requirement already satisfied: lz4 in c:\\users\\pc\\appdata\\local\\packages\\pythonsoftwarefoundation.python.3.11_qbz5n2kfra8p0\\localcache\\local-packages\\python311\\site-packages (from browser-cookie3->bardapi) (4.3.2)\n",
      "Requirement already satisfied: pycryptodomex in c:\\users\\pc\\appdata\\local\\packages\\pythonsoftwarefoundation.python.3.11_qbz5n2kfra8p0\\localcache\\local-packages\\python311\\site-packages (from browser-cookie3->bardapi) (3.19.0)\n",
      "Requirement already satisfied: beautifulsoup4<5.0.0,>=4.9.1 in c:\\users\\pc\\appdata\\local\\packages\\pythonsoftwarefoundation.python.3.11_qbz5n2kfra8p0\\localcache\\local-packages\\python311\\site-packages (from deep-translator->bardapi) (4.12.2)\n",
      "Requirement already satisfied: charset-normalizer<4,>=2 in c:\\users\\pc\\appdata\\local\\packages\\pythonsoftwarefoundation.python.3.11_qbz5n2kfra8p0\\localcache\\local-packages\\python311\\site-packages (from requests->bardapi) (3.3.0)\n",
      "Requirement already satisfied: urllib3<3,>=1.21.1 in c:\\users\\pc\\appdata\\local\\packages\\pythonsoftwarefoundation.python.3.11_qbz5n2kfra8p0\\localcache\\local-packages\\python311\\site-packages (from requests->bardapi) (2.0.6)\n",
      "Requirement already satisfied: google-api-core!=2.0.*,!=2.1.*,!=2.10.*,!=2.2.*,!=2.3.*,!=2.4.*,!=2.5.*,!=2.6.*,!=2.7.*,!=2.8.*,!=2.9.*,<3.0.0dev,>=1.34.0 in c:\\users\\pc\\appdata\\local\\packages\\pythonsoftwarefoundation.python.3.11_qbz5n2kfra8p0\\localcache\\local-packages\\python311\\site-packages (from google-api-core[grpc]!=2.0.*,!=2.1.*,!=2.10.*,!=2.2.*,!=2.3.*,!=2.4.*,!=2.5.*,!=2.6.*,!=2.7.*,!=2.8.*,!=2.9.*,<3.0.0dev,>=1.34.0->google-cloud-translate->bardapi) (2.12.0)\n",
      "Requirement already satisfied: google-cloud-core<3.0.0dev,>=1.3.0 in c:\\users\\pc\\appdata\\local\\packages\\pythonsoftwarefoundation.python.3.11_qbz5n2kfra8p0\\localcache\\local-packages\\python311\\site-packages (from google-cloud-translate->bardapi) (2.3.3)\n",
      "Requirement already satisfied: proto-plus<2.0.0dev,>=1.22.0 in c:\\users\\pc\\appdata\\local\\packages\\pythonsoftwarefoundation.python.3.11_qbz5n2kfra8p0\\localcache\\local-packages\\python311\\site-packages (from google-cloud-translate->bardapi) (1.22.3)\n",
      "Requirement already satisfied: protobuf!=3.20.0,!=3.20.1,!=4.21.0,!=4.21.1,!=4.21.2,!=4.21.3,!=4.21.4,!=4.21.5,<5.0.0dev,>=3.19.5 in c:\\users\\pc\\appdata\\local\\packages\\pythonsoftwarefoundation.python.3.11_qbz5n2kfra8p0\\localcache\\local-packages\\python311\\site-packages (from google-cloud-translate->bardapi) (4.24.4)\n",
      "Requirement already satisfied: six in c:\\users\\pc\\appdata\\local\\packages\\pythonsoftwarefoundation.python.3.11_qbz5n2kfra8p0\\localcache\\local-packages\\python311\\site-packages (from langdetect->bardapi) (1.16.0)\n",
      "Requirement already satisfied: soupsieve>1.2 in c:\\users\\pc\\appdata\\local\\packages\\pythonsoftwarefoundation.python.3.11_qbz5n2kfra8p0\\localcache\\local-packages\\python311\\site-packages (from beautifulsoup4<5.0.0,>=4.9.1->deep-translator->bardapi) (2.5)\n",
      "Requirement already satisfied: googleapis-common-protos<2.0.dev0,>=1.56.2 in c:\\users\\pc\\appdata\\local\\packages\\pythonsoftwarefoundation.python.3.11_qbz5n2kfra8p0\\localcache\\local-packages\\python311\\site-packages (from google-api-core!=2.0.*,!=2.1.*,!=2.10.*,!=2.2.*,!=2.3.*,!=2.4.*,!=2.5.*,!=2.6.*,!=2.7.*,!=2.8.*,!=2.9.*,<3.0.0dev,>=1.34.0->google-api-core[grpc]!=2.0.*,!=2.1.*,!=2.10.*,!=2.2.*,!=2.3.*,!=2.4.*,!=2.5.*,!=2.6.*,!=2.7.*,!=2.8.*,!=2.9.*,<3.0.0dev,>=1.34.0->google-cloud-translate->bardapi) (1.61.0)\n",
      "Requirement already satisfied: google-auth<3.0.dev0,>=2.14.1 in c:\\users\\pc\\appdata\\local\\packages\\pythonsoftwarefoundation.python.3.11_qbz5n2kfra8p0\\localcache\\local-packages\\python311\\site-packages (from google-api-core!=2.0.*,!=2.1.*,!=2.10.*,!=2.2.*,!=2.3.*,!=2.4.*,!=2.5.*,!=2.6.*,!=2.7.*,!=2.8.*,!=2.9.*,<3.0.0dev,>=1.34.0->google-api-core[grpc]!=2.0.*,!=2.1.*,!=2.10.*,!=2.2.*,!=2.3.*,!=2.4.*,!=2.5.*,!=2.6.*,!=2.7.*,!=2.8.*,!=2.9.*,<3.0.0dev,>=1.34.0->google-cloud-translate->bardapi) (2.23.3)\n",
      "Requirement already satisfied: grpcio<2.0dev,>=1.33.2 in c:\\users\\pc\\appdata\\local\\packages\\pythonsoftwarefoundation.python.3.11_qbz5n2kfra8p0\\localcache\\local-packages\\python311\\site-packages (from google-api-core[grpc]!=2.0.*,!=2.1.*,!=2.10.*,!=2.2.*,!=2.3.*,!=2.4.*,!=2.5.*,!=2.6.*,!=2.7.*,!=2.8.*,!=2.9.*,<3.0.0dev,>=1.34.0->google-cloud-translate->bardapi) (1.59.0)\n",
      "Requirement already satisfied: grpcio-status<2.0.dev0,>=1.33.2 in c:\\users\\pc\\appdata\\local\\packages\\pythonsoftwarefoundation.python.3.11_qbz5n2kfra8p0\\localcache\\local-packages\\python311\\site-packages (from google-api-core[grpc]!=2.0.*,!=2.1.*,!=2.10.*,!=2.2.*,!=2.3.*,!=2.4.*,!=2.5.*,!=2.6.*,!=2.7.*,!=2.8.*,!=2.9.*,<3.0.0dev,>=1.34.0->google-cloud-translate->bardapi) (1.59.0)\n",
      "Requirement already satisfied: hyperframe<7,>=6.0 in c:\\users\\pc\\appdata\\local\\packages\\pythonsoftwarefoundation.python.3.11_qbz5n2kfra8p0\\localcache\\local-packages\\python311\\site-packages (from h2<5,>=3->httpx[http2]>=0.20.0->bardapi) (6.0.1)\n",
      "Requirement already satisfied: hpack<5,>=4.0 in c:\\users\\pc\\appdata\\local\\packages\\pythonsoftwarefoundation.python.3.11_qbz5n2kfra8p0\\localcache\\local-packages\\python311\\site-packages (from h2<5,>=3->httpx[http2]>=0.20.0->bardapi) (4.0.0)\n",
      "Requirement already satisfied: anyio<5.0,>=3.0 in c:\\users\\pc\\appdata\\local\\packages\\pythonsoftwarefoundation.python.3.11_qbz5n2kfra8p0\\localcache\\local-packages\\python311\\site-packages (from httpcore<0.19.0,>=0.18.0->httpx>=0.20.0->httpx[http2]>=0.20.0->bardapi) (4.0.0)\n",
      "Requirement already satisfied: h11<0.15,>=0.13 in c:\\users\\pc\\appdata\\local\\packages\\pythonsoftwarefoundation.python.3.11_qbz5n2kfra8p0\\localcache\\local-packages\\python311\\site-packages (from httpcore<0.19.0,>=0.18.0->httpx>=0.20.0->httpx[http2]>=0.20.0->bardapi) (0.14.0)\n",
      "Requirement already satisfied: cachetools<6.0,>=2.0.0 in c:\\users\\pc\\appdata\\local\\packages\\pythonsoftwarefoundation.python.3.11_qbz5n2kfra8p0\\localcache\\local-packages\\python311\\site-packages (from google-auth<3.0.dev0,>=2.14.1->google-api-core!=2.0.*,!=2.1.*,!=2.10.*,!=2.2.*,!=2.3.*,!=2.4.*,!=2.5.*,!=2.6.*,!=2.7.*,!=2.8.*,!=2.9.*,<3.0.0dev,>=1.34.0->google-api-core[grpc]!=2.0.*,!=2.1.*,!=2.10.*,!=2.2.*,!=2.3.*,!=2.4.*,!=2.5.*,!=2.6.*,!=2.7.*,!=2.8.*,!=2.9.*,<3.0.0dev,>=1.34.0->google-cloud-translate->bardapi) (5.3.1)\n",
      "Requirement already satisfied: pyasn1-modules>=0.2.1 in c:\\users\\pc\\appdata\\local\\packages\\pythonsoftwarefoundation.python.3.11_qbz5n2kfra8p0\\localcache\\local-packages\\python311\\site-packages (from google-auth<3.0.dev0,>=2.14.1->google-api-core!=2.0.*,!=2.1.*,!=2.10.*,!=2.2.*,!=2.3.*,!=2.4.*,!=2.5.*,!=2.6.*,!=2.7.*,!=2.8.*,!=2.9.*,<3.0.0dev,>=1.34.0->google-api-core[grpc]!=2.0.*,!=2.1.*,!=2.10.*,!=2.2.*,!=2.3.*,!=2.4.*,!=2.5.*,!=2.6.*,!=2.7.*,!=2.8.*,!=2.9.*,<3.0.0dev,>=1.34.0->google-cloud-translate->bardapi) (0.3.0)\n",
      "Requirement already satisfied: rsa<5,>=3.1.4 in c:\\users\\pc\\appdata\\local\\packages\\pythonsoftwarefoundation.python.3.11_qbz5n2kfra8p0\\localcache\\local-packages\\python311\\site-packages (from google-auth<3.0.dev0,>=2.14.1->google-api-core!=2.0.*,!=2.1.*,!=2.10.*,!=2.2.*,!=2.3.*,!=2.4.*,!=2.5.*,!=2.6.*,!=2.7.*,!=2.8.*,!=2.9.*,<3.0.0dev,>=1.34.0->google-api-core[grpc]!=2.0.*,!=2.1.*,!=2.10.*,!=2.2.*,!=2.3.*,!=2.4.*,!=2.5.*,!=2.6.*,!=2.7.*,!=2.8.*,!=2.9.*,<3.0.0dev,>=1.34.0->google-cloud-translate->bardapi) (4.9)\n",
      "Requirement already satisfied: pyasn1<0.6.0,>=0.4.6 in c:\\users\\pc\\appdata\\local\\packages\\pythonsoftwarefoundation.python.3.11_qbz5n2kfra8p0\\localcache\\local-packages\\python311\\site-packages (from pyasn1-modules>=0.2.1->google-auth<3.0.dev0,>=2.14.1->google-api-core!=2.0.*,!=2.1.*,!=2.10.*,!=2.2.*,!=2.3.*,!=2.4.*,!=2.5.*,!=2.6.*,!=2.7.*,!=2.8.*,!=2.9.*,<3.0.0dev,>=1.34.0->google-api-core[grpc]!=2.0.*,!=2.1.*,!=2.10.*,!=2.2.*,!=2.3.*,!=2.4.*,!=2.5.*,!=2.6.*,!=2.7.*,!=2.8.*,!=2.9.*,<3.0.0dev,>=1.34.0->google-cloud-translate->bardapi) (0.5.0)\n"
     ]
    }
   ],
   "source": [
    "!pip install bardapi"
   ]
  },
  {
   "cell_type": "code",
   "execution_count": 4,
   "id": "1cfd2d49-8441-4c2d-b4f7-ff8b1c3a0cf1",
   "metadata": {},
   "outputs": [
    {
     "name": "stdout",
     "output_type": "stream",
     "text": [
      "Collecting git+https://github.com/dsdanielpark/Bard-API.git\n",
      "  Cloning https://github.com/dsdanielpark/Bard-API.git to c:\\users\\pc\\appdata\\local\\temp\\pip-req-build-nvbdq4g8\n",
      "  Resolved https://github.com/dsdanielpark/Bard-API.git to commit 41ec1aba9e1f1a9e105e8a44dad1ba405dbd4c6d\n",
      "  Installing build dependencies: started\n",
      "  Installing build dependencies: finished with status 'done'\n",
      "  Getting requirements to build wheel: started\n",
      "  Getting requirements to build wheel: finished with status 'done'\n",
      "  Preparing metadata (pyproject.toml): started\n",
      "  Preparing metadata (pyproject.toml): finished with status 'done'\n",
      "Requirement already satisfied: httpx>=0.20.0 in c:\\users\\pc\\appdata\\local\\packages\\pythonsoftwarefoundation.python.3.11_qbz5n2kfra8p0\\localcache\\local-packages\\python311\\site-packages (from httpx[http2]>=0.20.0->bardapi==0.1.38) (0.25.0)\n",
      "Requirement already satisfied: requests in c:\\users\\pc\\appdata\\local\\packages\\pythonsoftwarefoundation.python.3.11_qbz5n2kfra8p0\\localcache\\local-packages\\python311\\site-packages (from bardapi==0.1.38) (2.31.0)\n",
      "Requirement already satisfied: colorama in c:\\users\\pc\\appdata\\local\\packages\\pythonsoftwarefoundation.python.3.11_qbz5n2kfra8p0\\localcache\\local-packages\\python311\\site-packages (from bardapi==0.1.38) (0.4.6)\n",
      "Requirement already satisfied: certifi in c:\\users\\pc\\appdata\\local\\packages\\pythonsoftwarefoundation.python.3.11_qbz5n2kfra8p0\\localcache\\local-packages\\python311\\site-packages (from httpx>=0.20.0->httpx[http2]>=0.20.0->bardapi==0.1.38) (2023.7.22)\n",
      "Requirement already satisfied: httpcore<0.19.0,>=0.18.0 in c:\\users\\pc\\appdata\\local\\packages\\pythonsoftwarefoundation.python.3.11_qbz5n2kfra8p0\\localcache\\local-packages\\python311\\site-packages (from httpx>=0.20.0->httpx[http2]>=0.20.0->bardapi==0.1.38) (0.18.0)\n",
      "Requirement already satisfied: idna in c:\\users\\pc\\appdata\\local\\packages\\pythonsoftwarefoundation.python.3.11_qbz5n2kfra8p0\\localcache\\local-packages\\python311\\site-packages (from httpx>=0.20.0->httpx[http2]>=0.20.0->bardapi==0.1.38) (3.4)\n",
      "Requirement already satisfied: sniffio in c:\\users\\pc\\appdata\\local\\packages\\pythonsoftwarefoundation.python.3.11_qbz5n2kfra8p0\\localcache\\local-packages\\python311\\site-packages (from httpx>=0.20.0->httpx[http2]>=0.20.0->bardapi==0.1.38) (1.3.0)\n",
      "Requirement already satisfied: h2<5,>=3 in c:\\users\\pc\\appdata\\local\\packages\\pythonsoftwarefoundation.python.3.11_qbz5n2kfra8p0\\localcache\\local-packages\\python311\\site-packages (from httpx[http2]>=0.20.0->bardapi==0.1.38) (4.1.0)\n",
      "Requirement already satisfied: charset-normalizer<4,>=2 in c:\\users\\pc\\appdata\\local\\packages\\pythonsoftwarefoundation.python.3.11_qbz5n2kfra8p0\\localcache\\local-packages\\python311\\site-packages (from requests->bardapi==0.1.38) (3.3.0)\n",
      "Requirement already satisfied: urllib3<3,>=1.21.1 in c:\\users\\pc\\appdata\\local\\packages\\pythonsoftwarefoundation.python.3.11_qbz5n2kfra8p0\\localcache\\local-packages\\python311\\site-packages (from requests->bardapi==0.1.38) (2.0.6)\n",
      "Requirement already satisfied: hyperframe<7,>=6.0 in c:\\users\\pc\\appdata\\local\\packages\\pythonsoftwarefoundation.python.3.11_qbz5n2kfra8p0\\localcache\\local-packages\\python311\\site-packages (from h2<5,>=3->httpx[http2]>=0.20.0->bardapi==0.1.38) (6.0.1)\n",
      "Requirement already satisfied: hpack<5,>=4.0 in c:\\users\\pc\\appdata\\local\\packages\\pythonsoftwarefoundation.python.3.11_qbz5n2kfra8p0\\localcache\\local-packages\\python311\\site-packages (from h2<5,>=3->httpx[http2]>=0.20.0->bardapi==0.1.38) (4.0.0)\n",
      "Requirement already satisfied: anyio<5.0,>=3.0 in c:\\users\\pc\\appdata\\local\\packages\\pythonsoftwarefoundation.python.3.11_qbz5n2kfra8p0\\localcache\\local-packages\\python311\\site-packages (from httpcore<0.19.0,>=0.18.0->httpx>=0.20.0->httpx[http2]>=0.20.0->bardapi==0.1.38) (4.0.0)\n",
      "Requirement already satisfied: h11<0.15,>=0.13 in c:\\users\\pc\\appdata\\local\\packages\\pythonsoftwarefoundation.python.3.11_qbz5n2kfra8p0\\localcache\\local-packages\\python311\\site-packages (from httpcore<0.19.0,>=0.18.0->httpx>=0.20.0->httpx[http2]>=0.20.0->bardapi==0.1.38) (0.14.0)\n",
      "Note: you may need to restart the kernel to use updated packages.\n"
     ]
    },
    {
     "name": "stderr",
     "output_type": "stream",
     "text": [
      "  Running command git clone --filter=blob:none --quiet https://github.com/dsdanielpark/Bard-API.git 'C:\\Users\\PC\\AppData\\Local\\Temp\\pip-req-build-nvbdq4g8'\n"
     ]
    }
   ],
   "source": [
    "pip install git+https://github.com/dsdanielpark/Bard-API.git"
   ]
  },
  {
   "cell_type": "code",
   "execution_count": 28,
   "id": "598dc189-7cd1-458e-a09f-76dae2961a5c",
   "metadata": {},
   "outputs": [
    {
     "name": "stdout",
     "output_type": "stream",
     "text": [
      "Collecting bardapi==0.1.23a\n",
      "  Downloading bardapi-0.1.23a0-py3-none-any.whl.metadata (14 kB)\n",
      "Requirement already satisfied: requests in c:\\users\\pc\\appdata\\local\\packages\\pythonsoftwarefoundation.python.3.11_qbz5n2kfra8p0\\localcache\\local-packages\\python311\\site-packages (from bardapi==0.1.23a) (2.31.0)\n",
      "Requirement already satisfied: colorama in c:\\users\\pc\\appdata\\local\\packages\\pythonsoftwarefoundation.python.3.11_qbz5n2kfra8p0\\localcache\\local-packages\\python311\\site-packages (from bardapi==0.1.23a) (0.4.6)\n",
      "Requirement already satisfied: httpx[http2] in c:\\users\\pc\\appdata\\local\\packages\\pythonsoftwarefoundation.python.3.11_qbz5n2kfra8p0\\localcache\\local-packages\\python311\\site-packages (from bardapi==0.1.23a) (0.25.0)\n",
      "Requirement already satisfied: certifi in c:\\users\\pc\\appdata\\local\\packages\\pythonsoftwarefoundation.python.3.11_qbz5n2kfra8p0\\localcache\\local-packages\\python311\\site-packages (from httpx[http2]->bardapi==0.1.23a) (2023.7.22)\n",
      "Requirement already satisfied: httpcore<0.19.0,>=0.18.0 in c:\\users\\pc\\appdata\\local\\packages\\pythonsoftwarefoundation.python.3.11_qbz5n2kfra8p0\\localcache\\local-packages\\python311\\site-packages (from httpx[http2]->bardapi==0.1.23a) (0.18.0)\n",
      "Requirement already satisfied: idna in c:\\users\\pc\\appdata\\local\\packages\\pythonsoftwarefoundation.python.3.11_qbz5n2kfra8p0\\localcache\\local-packages\\python311\\site-packages (from httpx[http2]->bardapi==0.1.23a) (3.4)\n",
      "Requirement already satisfied: sniffio in c:\\users\\pc\\appdata\\local\\packages\\pythonsoftwarefoundation.python.3.11_qbz5n2kfra8p0\\localcache\\local-packages\\python311\\site-packages (from httpx[http2]->bardapi==0.1.23a) (1.3.0)\n",
      "Requirement already satisfied: h2<5,>=3 in c:\\users\\pc\\appdata\\local\\packages\\pythonsoftwarefoundation.python.3.11_qbz5n2kfra8p0\\localcache\\local-packages\\python311\\site-packages (from httpx[http2]->bardapi==0.1.23a) (4.1.0)\n",
      "Requirement already satisfied: charset-normalizer<4,>=2 in c:\\users\\pc\\appdata\\local\\packages\\pythonsoftwarefoundation.python.3.11_qbz5n2kfra8p0\\localcache\\local-packages\\python311\\site-packages (from requests->bardapi==0.1.23a) (3.3.0)\n",
      "Requirement already satisfied: urllib3<3,>=1.21.1 in c:\\users\\pc\\appdata\\local\\packages\\pythonsoftwarefoundation.python.3.11_qbz5n2kfra8p0\\localcache\\local-packages\\python311\\site-packages (from requests->bardapi==0.1.23a) (2.0.6)\n",
      "Requirement already satisfied: hyperframe<7,>=6.0 in c:\\users\\pc\\appdata\\local\\packages\\pythonsoftwarefoundation.python.3.11_qbz5n2kfra8p0\\localcache\\local-packages\\python311\\site-packages (from h2<5,>=3->httpx[http2]->bardapi==0.1.23a) (6.0.1)\n",
      "Requirement already satisfied: hpack<5,>=4.0 in c:\\users\\pc\\appdata\\local\\packages\\pythonsoftwarefoundation.python.3.11_qbz5n2kfra8p0\\localcache\\local-packages\\python311\\site-packages (from h2<5,>=3->httpx[http2]->bardapi==0.1.23a) (4.0.0)\n",
      "Requirement already satisfied: anyio<5.0,>=3.0 in c:\\users\\pc\\appdata\\local\\packages\\pythonsoftwarefoundation.python.3.11_qbz5n2kfra8p0\\localcache\\local-packages\\python311\\site-packages (from httpcore<0.19.0,>=0.18.0->httpx[http2]->bardapi==0.1.23a) (4.0.0)\n",
      "Requirement already satisfied: h11<0.15,>=0.13 in c:\\users\\pc\\appdata\\local\\packages\\pythonsoftwarefoundation.python.3.11_qbz5n2kfra8p0\\localcache\\local-packages\\python311\\site-packages (from httpcore<0.19.0,>=0.18.0->httpx[http2]->bardapi==0.1.23a) (0.14.0)\n",
      "Downloading bardapi-0.1.23a0-py3-none-any.whl (12 kB)\n",
      "Installing collected packages: bardapi\n",
      "  Attempting uninstall: bardapi\n",
      "    Found existing installation: bardapi 0.1.38\n",
      "    Uninstalling bardapi-0.1.38:\n",
      "      Successfully uninstalled bardapi-0.1.38\n",
      "Successfully installed bardapi-0.1.23a0\n",
      "Note: you may need to restart the kernel to use updated packages.\n"
     ]
    }
   ],
   "source": [
    "pip install bardapi==0.1.23a"
   ]
  },
  {
   "cell_type": "markdown",
   "id": "445c38c1-5d01-4ac0-8cb1-cd02feb67b7a",
   "metadata": {},
   "source": [
    "## **Bibliotecas**"
   ]
  },
  {
   "cell_type": "code",
   "execution_count": 36,
   "id": "6da179f0-262b-4f3a-928a-c6e0c5ee088f",
   "metadata": {},
   "outputs": [],
   "source": [
    "import pandas as pd\n",
    "import requests\n",
    "import json\n",
    "import openai\n",
    "from bardapi import Bard"
   ]
  },
  {
   "cell_type": "markdown",
   "id": "22ef8a5f-f4bd-4f1a-922d-9bac19400abe",
   "metadata": {},
   "source": [
    "## **Importando CSV**"
   ]
  },
  {
   "cell_type": "code",
   "execution_count": 34,
   "id": "973c05ba-9676-4ce6-b1d2-4cb5655b4c5e",
   "metadata": {},
   "outputs": [
    {
     "name": "stdout",
     "output_type": "stream",
     "text": [
      "[1, 2, 3, 4, 5, 6, 7, 8, 9, 10]\n"
     ]
    }
   ],
   "source": [
    "df = pd.read_csv('../data/user_id.csv')\n",
    "user_ids = df['UserID'].tolist()\n",
    "print(user_ids)"
   ]
  },
  {
   "cell_type": "markdown",
   "id": "4eb44d6c-685a-44d4-bfad-00f26313371b",
   "metadata": {},
   "source": [
    "## **E**xtract"
   ]
  },
  {
   "cell_type": "markdown",
   "id": "e67fa5c6-3515-4a1d-a571-e28461b8bf59",
   "metadata": {},
   "source": [
    "sdw2023_api_url = 'https://sdw-2023-prd.up.railway.app'"
   ]
  },
  {
   "cell_type": "code",
   "execution_count": null,
   "id": "dcef9fb2-139a-4992-ad16-9c85a1bfe8b1",
   "metadata": {},
   "outputs": [],
   "source": [
    "def get_user(id):\n",
    "  response = requests.get(f'{sdw2023_api_url}/users/{id}')\n",
    "  return response.json() if response.status_code == 200 else None\n",
    "\n",
    "users = [user for id in user_ids if (user := get_user(id)) is not None]\n",
    "print(json.dumps(users, indent=2))"
   ]
  },
  {
   "cell_type": "markdown",
   "id": "d22e8c13-a42b-4901-a7bf-0e308715b8f1",
   "metadata": {},
   "source": [
    "## **T**ransform"
   ]
  },
  {
   "cell_type": "code",
   "execution_count": null,
   "id": "baa3173f-d91e-47cd-8547-06f08d1cdae4",
   "metadata": {},
   "outputs": [],
   "source": [
    "openai_api_key = ''"
   ]
  },
  {
   "cell_type": "code",
   "execution_count": null,
   "id": "dd69f326-4d04-4ed8-8b8c-aa05ec968e0b",
   "metadata": {},
   "outputs": [],
   "source": [
    "openai.api_key = openai_api_key\n",
    "\n",
    "def generate_ai_news(user):\n",
    "  completion = openai.ChatCompletion.create(\n",
    "    model=\"gpt-4\",\n",
    "    messages=[\n",
    "      {\n",
    "          \"role\": \"system\",\n",
    "          \"content\": \"Você é um especialista em markting bancário.\"\n",
    "      },\n",
    "      {\n",
    "          \"role\": \"user\",\n",
    "          \"content\": f\"Crie uma mensagem para {user['name']} sobre a importância dos investimentos (máximo de 100 caracteres)\"\n",
    "      }\n",
    "    ]\n",
    "  )\n",
    "  return completion.choices[0].message.content.strip('\\\"')\n",
    "\n",
    "for user in users:\n",
    "  news = generate_ai_news(user)\n",
    "  print(news)\n",
    "  user['news'].append({\n",
    "      \"icon\": \"https://digitalinnovationone.github.io/santander-dev-week-2023-api/icons/credit.svg\",\n",
    "      \"description\": news\n",
    "  })"
   ]
  },
  {
   "cell_type": "markdown",
   "id": "1a96d55d-2109-423e-a0e5-e8f8ecffd77f",
   "metadata": {},
   "source": [
    "## **L**oad"
   ]
  },
  {
   "cell_type": "code",
   "execution_count": null,
   "id": "19297e99-5d85-4bb5-b566-789e77ae203a",
   "metadata": {},
   "outputs": [],
   "source": [
    "def update_user(user):\n",
    "  response = requests.put(f\"{sdw2023_api_url}/users/{user['id']}\", json=user)\n",
    "  return True if response.status_code == 200 else False\n",
    "\n",
    "for user in users:\n",
    "  success = update_user(user)\n",
    "  print(f\"User {user['name']} updated? {success}!\")"
   ]
  },
  {
   "cell_type": "markdown",
   "id": "cffe0c34-0821-49b5-8838-70b2cf3a209c",
   "metadata": {},
   "source": [
    "## **B**ardApi"
   ]
  },
  {
   "cell_type": "code",
   "execution_count": null,
   "id": "c0987a6b-3cd5-4fc1-bc70-44ef56476d8f",
   "metadata": {},
   "outputs": [],
   "source": [
    "bard = Bard()\n",
    "\n",
    "bard = Bard(token='')\n",
    "\n",
    "for user_id in df['UserID']:\n",
    "    message = bard.get_marketing_message(user_id)\n",
    "\n",
    "    print(f\"Usuário {user_id}: {message}\")"
   ]
  }
 ],
 "metadata": {
  "kernelspec": {
   "display_name": "Python 3 (ipykernel)",
   "language": "python",
   "name": "python3"
  },
  "language_info": {
   "codemirror_mode": {
    "name": "ipython",
    "version": 3
   },
   "file_extension": ".py",
   "mimetype": "text/x-python",
   "name": "python",
   "nbconvert_exporter": "python",
   "pygments_lexer": "ipython3",
   "version": "3.11.6"
  }
 },
 "nbformat": 4,
 "nbformat_minor": 5
}
